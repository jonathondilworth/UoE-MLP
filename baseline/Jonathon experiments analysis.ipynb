{
 "cells": [
  {
   "cell_type": "code",
   "execution_count": 7,
   "metadata": {
    "collapsed": true
   },
   "outputs": [],
   "source": [
    "import numpy as np\n",
    "import matplotlib.pyplot as plt\n",
    "from collections import OrderedDict\n",
    "%matplotlib inline"
   ]
  },
  {
   "cell_type": "code",
   "execution_count": 23,
   "metadata": {},
   "outputs": [
    {
     "name": "stdout",
     "output_type": "stream",
     "text": [
      "*****************************************\n",
      "clothes\n",
      "size: 0.10, accuracy: 0.13\n",
      "size: 0.20, accuracy: 0.91\n",
      "size: 0.30, accuracy: 0.93\n",
      "size: 0.40, accuracy: 0.94\n",
      "\n",
      "file {'clothes_cnn2_50_cnn2_log.txt'} not found\n",
      "\n",
      "size: 0.40, accuracy: 0.94\n",
      "size: 0.60, accuracy: 0.94\n",
      "size: 0.70, accuracy: 0.14\n",
      "\n",
      "file {'clothes_cnn2_80_cnn2_log.txt'} not found\n",
      "\n",
      "size: 0.70, accuracy: 0.14\n",
      "size: 0.90, accuracy: 0.94\n",
      "size: 1.00, accuracy: 0.94\n",
      "*****************************************\n",
      "faces\n",
      "size: 0.10, accuracy: 0.14\n",
      "size: 0.20, accuracy: 0.15\n",
      "size: 0.30, accuracy: 1.00\n",
      "size: 0.40, accuracy: 0.99\n",
      "size: 0.50, accuracy: 0.15\n",
      "size: 0.60, accuracy: 1.00\n",
      "size: 0.70, accuracy: 0.14\n",
      "size: 0.80, accuracy: 0.14\n",
      "size: 0.90, accuracy: 0.14\n",
      "size: 1.00, accuracy: 0.86\n"
     ]
    }
   ],
   "source": [
    "def get_parameters(line):\n",
    "    \n",
    "    params = line.split(\",\")\n",
    "    paramsDict = OrderedDict()\n",
    "    \n",
    "    for key_value in params:\n",
    "        kv = key_value.split(\":\")\n",
    "        paramsDict[kv[0].strip()] = float(kv[1].strip())\n",
    "        \n",
    "    return paramsDict\n",
    "        \n",
    "\n",
    "def read_files(dataset_name=\"clothes\"):\n",
    "    \n",
    "    dataset_exp_params = []\n",
    "    \n",
    "    for i in range(1,11):\n",
    "        percentage = i * 10\n",
    "        log_file =  \"{:s}_cnn2_{:d}_cnn2_log.txt\".format(dataset_name, percentage)\n",
    "        \n",
    "        try:\n",
    "            with open(log_file, 'r') as f:\n",
    "                first_line = f.readline()\n",
    "        except:\n",
    "            print(\"\\nfile {} not found\\n\".format({log_file}))\n",
    "        \n",
    "        params = get_parameters(first_line)\n",
    "        print(\"size: {:.2f}, accuracy: {:.2f}\".format(params[\"dataset_size\"], params[\"acc\"]))\n",
    "        \n",
    "print(\"*****************************************\")\n",
    "print(\"clothes\")\n",
    "read_files()\n",
    "\n",
    "print(\"*****************************************\")\n",
    "print(\"faces\")\n",
    "read_files(\"faces\")"
   ]
  },
  {
   "cell_type": "code",
   "execution_count": null,
   "metadata": {
    "collapsed": true
   },
   "outputs": [],
   "source": []
  }
 ],
 "metadata": {
  "kernelspec": {
   "display_name": "Python 3",
   "language": "python",
   "name": "python3"
  },
  "language_info": {
   "codemirror_mode": {
    "name": "ipython",
    "version": 3
   },
   "file_extension": ".py",
   "mimetype": "text/x-python",
   "name": "python",
   "nbconvert_exporter": "python",
   "pygments_lexer": "ipython3",
   "version": "3.6.2"
  }
 },
 "nbformat": 4,
 "nbformat_minor": 2
}
