{
 "cells": [
  {
   "cell_type": "markdown",
   "metadata": {},
   "source": [
    "## The models"
   ]
  },
  {
   "cell_type": "code",
   "execution_count": 7,
   "metadata": {
    "collapsed": true
   },
   "outputs": [],
   "source": [
    "import argparse\n",
    "\n",
    "from collections import OrderedDict\n",
    "import numpy as np\n",
    "import matplotlib.pyplot as plt\n",
    "\n",
    "from keras.models import Sequential\n",
    "from keras.layers import Dense, Flatten, ELU, Activation, Lambda, Dropout\n",
    "from keras.layers.convolutional import Convolution2D\n",
    "from keras.layers.pooling import MaxPooling2D\n",
    "from keras.optimizers import Adam, RMSprop\n",
    "from keras.initializers import glorot_uniform\n",
    "from random import randrange\n",
    "from keras.utils.np_utils import to_categorical\n",
    "\n",
    "#from common import load_data, load_data_hog, train_and_save_results, L2Penalty\n",
    "\n",
    "seed=10102016"
   ]
  },
  {
   "cell_type": "code",
   "execution_count": 17,
   "metadata": {
    "collapsed": true
   },
   "outputs": [],
   "source": [
    "def get_model_1(learning):\n",
    "        \n",
    "    image_shape = (28, 28, 1)\n",
    "\n",
    "    model = Sequential()\n",
    "    model.add(Lambda(lambda x: x, input_shape=image_shape, output_shape=image_shape))\n",
    "    \n",
    "    model.add(Convolution2D(\n",
    "        5, \n",
    "        5, \n",
    "        kernel_initializer='random_uniform',\n",
    "        bias_initializer='zeros',\n",
    "        border_mode=\"valid\"))\n",
    "    model.add(MaxPooling2D())\n",
    "    model.add(Activation('relu'))\n",
    "\n",
    "    model.add(Flatten())\n",
    "    model.add(Dense(5, kernel_initializer=glorot_uniform(seed), activation='softmax'))\n",
    "\n",
    "    optimizer = Adam(lr=learning)\n",
    "    model.compile(optimizer=optimizer, loss=\"categorical_crossentropy\", metrics=[\"accuracy\"])\n",
    "\n",
    "    return model\n",
    "\n",
    "def get_model_2(learning):\n",
    "        \n",
    "    image_shape = (28, 28, 1)\n",
    "\n",
    "    model = Sequential()\n",
    "    model.add(Lambda(lambda x: x, input_shape=image_shape, output_shape=image_shape))\n",
    "    \n",
    "    model.add(Convolution2D(\n",
    "        5, \n",
    "        5, \n",
    "        kernel_initializer='random_uniform',\n",
    "        bias_initializer='zeros',\n",
    "        border_mode=\"valid\"))\n",
    "    model.add(MaxPooling2D())\n",
    "    model.add(Activation('relu'))\n",
    "\n",
    "    model.add(Convolution2D(\n",
    "        10, \n",
    "        5, \n",
    "        kernel_initializer='random_uniform',\n",
    "        bias_initializer='zeros',\n",
    "        border_mode=\"valid\"))\n",
    "    model.add(MaxPooling2D())\n",
    "    model.add(Activation('relu'))\n",
    "\n",
    "    model.add(Flatten())\n",
    "    model.add(Dense(5, kernel_initializer=glorot_uniform(seed), activation='softmax'))\n",
    "\n",
    "    optimizer = Adam(lr=learning)\n",
    "    model.compile(optimizer=optimizer, loss=\"categorical_crossentropy\", metrics=[\"accuracy\"])\n",
    "\n",
    "    return model"
   ]
  },
  {
   "cell_type": "code",
   "execution_count": 20,
   "metadata": {},
   "outputs": [
    {
     "name": "stderr",
     "output_type": "stream",
     "text": [
      "/afs/inf.ed.ac.uk/user/s17/s1700260/miniconda3/envs/mlp/lib/python3.6/site-packages/ipykernel_launcher.py:13: UserWarning: Update your `Conv2D` call to the Keras 2 API: `Conv2D(5, 5, kernel_initializer=\"random_uniform\", bias_initializer=\"zeros\", padding=\"valid\")`\n",
      "  del sys.path[0]\n",
      "/afs/inf.ed.ac.uk/user/s17/s1700260/miniconda3/envs/mlp/lib/python3.6/site-packages/ipykernel_launcher.py:37: UserWarning: Update your `Conv2D` call to the Keras 2 API: `Conv2D(5, 5, kernel_initializer=\"random_uniform\", bias_initializer=\"zeros\", padding=\"valid\")`\n",
      "/afs/inf.ed.ac.uk/user/s17/s1700260/miniconda3/envs/mlp/lib/python3.6/site-packages/ipykernel_launcher.py:46: UserWarning: Update your `Conv2D` call to the Keras 2 API: `Conv2D(10, 5, kernel_initializer=\"random_uniform\", bias_initializer=\"zeros\", padding=\"valid\")`\n"
     ]
    },
    {
     "name": "stdout",
     "output_type": "stream",
     "text": [
      "Model 1 summary\n",
      "_________________________________________________________________\n",
      "Layer (type)                 Output Shape              Param #   \n",
      "=================================================================\n",
      "lambda_14 (Lambda)           (None, 28, 28, 1)         0         \n",
      "_________________________________________________________________\n",
      "conv2d_20 (Conv2D)           (None, 24, 24, 5)         130       \n",
      "_________________________________________________________________\n",
      "max_pooling2d_20 (MaxPooling (None, 12, 12, 5)         0         \n",
      "_________________________________________________________________\n",
      "activation_20 (Activation)   (None, 12, 12, 5)         0         \n",
      "_________________________________________________________________\n",
      "flatten_14 (Flatten)         (None, 720)               0         \n",
      "_________________________________________________________________\n",
      "dense_13 (Dense)             (None, 5)                 3605      \n",
      "=================================================================\n",
      "Total params: 3,735\n",
      "Trainable params: 3,735\n",
      "Non-trainable params: 0\n",
      "_________________________________________________________________\n",
      "Model 2 summary\n",
      "_________________________________________________________________\n",
      "Layer (type)                 Output Shape              Param #   \n",
      "=================================================================\n",
      "lambda_15 (Lambda)           (None, 28, 28, 1)         0         \n",
      "_________________________________________________________________\n",
      "conv2d_21 (Conv2D)           (None, 24, 24, 5)         130       \n",
      "_________________________________________________________________\n",
      "max_pooling2d_21 (MaxPooling (None, 12, 12, 5)         0         \n",
      "_________________________________________________________________\n",
      "activation_21 (Activation)   (None, 12, 12, 5)         0         \n",
      "_________________________________________________________________\n",
      "conv2d_22 (Conv2D)           (None, 8, 8, 10)          1260      \n",
      "_________________________________________________________________\n",
      "max_pooling2d_22 (MaxPooling (None, 4, 4, 10)          0         \n",
      "_________________________________________________________________\n",
      "activation_22 (Activation)   (None, 4, 4, 10)          0         \n",
      "_________________________________________________________________\n",
      "flatten_15 (Flatten)         (None, 160)               0         \n",
      "_________________________________________________________________\n",
      "dense_14 (Dense)             (None, 5)                 805       \n",
      "=================================================================\n",
      "Total params: 2,195\n",
      "Trainable params: 2,195\n",
      "Non-trainable params: 0\n",
      "_________________________________________________________________\n"
     ]
    }
   ],
   "source": [
    "learning_rate = 0.01\n",
    "model1 = get_model_1(learning_rate)\n",
    "model2 = get_model_2(learning_rate)\n",
    "\n",
    "print(\"Model 1 summary\")\n",
    "model1.summary()\n",
    "\n",
    "print(\"Model 2 summary\")\n",
    "model2.summary()"
   ]
  }
 ],
 "metadata": {
  "kernelspec": {
   "display_name": "Python 3",
   "language": "python",
   "name": "python3"
  },
  "language_info": {
   "codemirror_mode": {
    "name": "ipython",
    "version": 3
   },
   "file_extension": ".py",
   "mimetype": "text/x-python",
   "name": "python",
   "nbconvert_exporter": "python",
   "pygments_lexer": "ipython3",
   "version": "3.6.2"
  }
 },
 "nbformat": 4,
 "nbformat_minor": 2
}
