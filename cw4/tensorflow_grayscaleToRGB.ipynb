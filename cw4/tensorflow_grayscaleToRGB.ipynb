{
 "cells": [
  {
   "cell_type": "code",
   "execution_count": 2,
   "metadata": {},
   "outputs": [
    {
     "name": "stderr",
     "output_type": "stream",
     "text": [
      "/root/miniconda3/envs/mlp/lib/python3.6/importlib/_bootstrap.py:205: RuntimeWarning: compiletime version 3.5 of module 'tensorflow.python.framework.fast_tensor_util' does not match runtime version 3.6\n",
      "  return f(*args, **kwds)\n"
     ]
    }
   ],
   "source": [
    "import numpy as np\n",
    "import tensorflow as tf\n",
    "import os\n",
    "from PIL import Image\n",
    "import scipy \n"
   ]
  },
  {
   "cell_type": "code",
   "execution_count": 2,
   "metadata": {},
   "outputs": [
    {
     "data": {
      "text/plain": [
       "6000"
      ]
     },
     "execution_count": 2,
     "metadata": {},
     "output_type": "execute_result"
    }
   ],
   "source": [
    "pairs=[]\n",
    "imgloc=os.path.join(os.getcwd() +'/clothes/train/1/' )\n",
    "#imgloc\n",
    "#img=scipy.misc.imread(imgloc)\n",
    "def load_images_from_folder(folder):\n",
    "    images = []\n",
    "    for filename in os.listdir(folder):\n",
    "        img = scipy.misc.imread(os.path.join(folder,filename))\n",
    "        images.append(img)\n",
    "    return images\n",
    "a=load_images_from_folder(imgloc)\n",
    "len(a)"
   ]
  },
  {
   "cell_type": "code",
   "execution_count": 20,
   "metadata": {},
   "outputs": [],
   "source": [
    "dir=os.path.join(os.getcwd() +'/Jpface/FE/' ) ##Repeat the last term from 0 to 6\n",
    "new_dir=os.path.join(os.getcwd() +'/Jpface/FE/' ) ##Repeat the last term from 0 to 6\n",
    "files=os.listdir(dir)\n",
    "file=['/root/UoE-MLP/baseline/Jpface/FE/'+ i for i in files]\n",
    "def read_image(filename_queue):\n",
    "    reader = tf.WholeFileReader()\n",
    "    key,value = reader.read(filename_queue)\n",
    "    image = tf.image.decode_jpeg(value)\n",
    "    return image   \n",
    "def gray_to_RGB_and_resize(image):\n",
    "    new_img=tf.image.resize_image_with_crop_or_pad(image,64,64)\n",
    "    new_img=tf.image.grayscale_to_rgb(image)\n",
    "    return new_img\n",
    "def inputs():\n",
    "    filenames = file\n",
    "    filename_queue = tf.train.string_input_producer(filenames)\n",
    "    read_input = read_image(filename_queue)\n",
    "    rgb_image = gray_to_RGB_and_resize(read_input)\n",
    "    return rgb_image"
   ]
  },
  {
   "cell_type": "code",
   "execution_count": 21,
   "metadata": {},
   "outputs": [],
   "source": [
    "with tf.Graph().as_default():\n",
    "    image = inputs()\n",
    "    init = tf.global_variables_initializer()\n",
    "    sess = tf.Session()\n",
    "    sess.run(init)\n",
    "    tf.train.start_queue_runners(sess=sess)\n",
    "    for i in range(30):\n",
    "        img = sess.run(image)\n",
    "        img = Image.fromarray(img, \"RGB\")\n",
    "        img.save(os.path.join(new_dir, str(i)+\".jpg\"))"
   ]
  },
  {
   "cell_type": "code",
   "execution_count": 16,
   "metadata": {
    "collapsed": true
   },
   "outputs": [],
   "source": [
    "file=['/root/UoE-MLP/baseline/clothes/0/'+ i for i in files]"
   ]
  },
  {
   "cell_type": "code",
   "execution_count": 6,
   "metadata": {},
   "outputs": [
    {
     "name": "stdout",
     "output_type": "stream",
     "text": [
      "0\n",
      "1\n",
      "2\n",
      "3\n",
      "4\n",
      "5\n",
      "6\n",
      "7\n",
      "8\n",
      "9\n",
      "10\n",
      "11\n",
      "12\n",
      "13\n",
      "14\n",
      "15\n",
      "16\n",
      "17\n",
      "18\n",
      "19\n",
      "20\n",
      "21\n",
      "22\n",
      "23\n",
      "24\n",
      "25\n",
      "26\n",
      "27\n",
      "28\n",
      "29\n"
     ]
    }
   ],
   "source": [
    "for i in range(30):\n",
    "    print(i)"
   ]
  },
  {
   "cell_type": "code",
   "execution_count": 61,
   "metadata": {
    "collapsed": true
   },
   "outputs": [],
   "source": [
    "a=np.hstack((np.random.choice([1,2,3,4,5,6],size=(3,)), \n",
    "            np.random.choice([0,2,3,4,5,6],size=(3,)),\n",
    "            np.random.choice([0,1,3,4,5,6],size=(3,)),\n",
    "            np.random.choice([0,1,2,4,5,6],size=(3,)),\n",
    "            np.random.choice([0,1,2,3,5,6],size=(3,)),\n",
    "            np.random.choice([0,1,2,3,4,6],size=(3,)),\n",
    "            np.random.choice([0,1,2,3,4,5],size=(3,))))"
   ]
  },
  {
   "cell_type": "code",
   "execution_count": 62,
   "metadata": {},
   "outputs": [
    {
     "data": {
      "text/plain": [
       "(21,)"
      ]
     },
     "execution_count": 62,
     "metadata": {},
     "output_type": "execute_result"
    }
   ],
   "source": [
    "a.shape"
   ]
  },
  {
   "cell_type": "code",
   "execution_count": null,
   "metadata": {
    "collapsed": true
   },
   "outputs": [],
   "source": []
  }
 ],
 "metadata": {
  "kernelspec": {
   "display_name": "Python 3",
   "language": "python",
   "name": "python3"
  },
  "language_info": {
   "codemirror_mode": {
    "name": "ipython",
    "version": 3
   },
   "file_extension": ".py",
   "mimetype": "text/x-python",
   "name": "python",
   "nbconvert_exporter": "python",
   "pygments_lexer": "ipython3",
   "version": "3.6.2"
  }
 },
 "nbformat": 4,
 "nbformat_minor": 2
}
